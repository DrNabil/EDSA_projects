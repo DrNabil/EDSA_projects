{
 "cells": [
  {
   "cell_type": "code",
   "execution_count": 4,
   "id": "25885df6",
   "metadata": {},
   "outputs": [
    {
     "ename": "SyntaxError",
     "evalue": "invalid syntax (<ipython-input-4-673e139c9886>, line 58)",
     "output_type": "error",
     "traceback": [
      "\u001b[0;36m  File \u001b[0;32m\"<ipython-input-4-673e139c9886>\"\u001b[0;36m, line \u001b[0;32m58\u001b[0m\n\u001b[0;31m    print(\"The X1_test shape is : \", X1_test.shape)\u001b[0m\n\u001b[0m    ^\u001b[0m\n\u001b[0;31mSyntaxError\u001b[0m\u001b[0;31m:\u001b[0m invalid syntax\n"
     ]
    }
   ],
   "source": [
    "import numpy as np; import pandas as pd\n",
    "import matplotlib.pyplot as plt\n",
    "import seaborn as sns\n",
    "from sklearn.model_selection import train_test_split\n",
    "from sklearn.tree import DecisionTreeRegressor\n",
    "from sklearn.ensemble import AdaBoostRegressor\n",
    "from sklearn.metrics import mean_squared_error as MSE\n",
    "from sklearn.model_selection import GridSearchCV\n",
    "pd.options.display.float_format = '{:,.3f}'.format\n",
    "%matplotlib inline\n",
    "data=pd.read_csv('train.csv')\n",
    "data.info()\n",
    "data.head()\n",
    "type(data)\n",
    "data.shape\n",
    "data.isnull().sum().head()\n",
    "from sklearn.impute  import SimpleImputer\n",
    "si=SimpleImputer(missing_values=np.nan, strategy='mean')\n",
    "data[['year_built','energy_star_rating','direction_max_wind_speed','direction_peak_wind_speed','max_wind_speed','days_with_fog']]=si.fit_transform(data[['year_built','energy_star_rating','direction_max_wind_speed','direction_peak_wind_speed','max_wind_speed','days_with_fog']])\n",
    "from sklearn.preprocessing import LabelEncoder\n",
    "le=LabelEncoder()\n",
    "data['State_Factor']=le.fit_transform(data['State_Factor'])\n",
    "data['building_class']=le.fit_transform(data['building_class'])\n",
    "data.info()\n",
    "df=data.drop(['facility_type'], axis=1)\n",
    "df.info()\n",
    "df.corr().style.background_gradient(cmap='PuBu')\n",
    "X=df.iloc[:,0:60]\n",
    "y=df.iloc[:,61]\n",
    "X_train, X_test, y_train, y_test=train_test_split(X, y, test_size=0.3, random_state=1)\n",
    "print(\"The X_train shape is: \", X_train.shape)\n",
    "print(\"The y_train shape is: \", y_train.shape)\n",
    "print(\"The X_test shape is : \", X_test.shape)\n",
    "print(\"The y_train shape is: \",y_test.shape)\n",
    "ada_clf = AdaBoostRegressor(base_estimator=DecisionTreeRegressor(max_depth=3, random_state=1), n_estimators=180, random_state=1)\n",
    "ada_clf.fit(X_train, y_train)\n",
    "y_pred = ada_clf.predict(X_test)\n",
    "rmse = np.sqrt(MSE(y_pred, y_test))\n",
    "print(\"*\"*50)\n",
    "print('Test set RMSE: {:.5f}'.format(rmse))\n",
    "print(\"*\"*50)\n",
    "importances = pd.Series(data=ada_clf.feature_importances_,\n",
    "                        index= X_train.columns)\n",
    "importances_sorted = importances.sort_values()\n",
    "importances_sorted.plot(color='lightgreen',\n",
    "                        kind='barh')\n",
    "plt.title('Features Importances')\n",
    "plt.show()\n",
    "features = data.iloc[:,0:60]\n",
    "for name, score in zip(features, ada_clf.feature_importances_):\n",
    "    print(\"{0:18}: {1:.9f}\".format(name, score))\n",
    "## Tunning\n",
    "X1=df[['State_Factor','State_Factor','building_class','floor_area','year_built','energy_star_rating','ELEVATION','january_min_temp','january_avg_temp','february_min_temp','march_avg_temp','april_max_temp','may_min_temp','may_avg_temp','may_max_temp','june_avg_temp','july_min_temp','august_min_temp','september_min_temp','september_avg_temp','october_max_temp','november_min_temp','december_min_temp','heating_degree_days','days_below_10F','days_below_0F','direction_max_wind_speed']]\n",
    "y1=df.iloc[:,61]\n",
    "X1_train, X1_test, y1_train, y1_test=train_test_split(X1, y1, test_size=0.3, random_state=1)\n",
    "print(\"The X1_train shape is: \", X1_train.shape)\n",
    "print(\"The y1_train shape is: \", y1_train.shape\n",
    "print(\"The X1_test shape is : \", X1_test.shape)\n",
    "print(\"The y1_train shape is: \",y1_test.shape)\n",
    "ada_tree = AdaBoostRegressor(base_estimator = DecisionTreeRegressor(max_depth=3, random_state=1),random_state=1)\n",
    "ada_param_grid = {'n_estimators': [10, 100],\n",
    "                  'learning_rate': [0.01, 1]}\n",
    "ada_gs = GridSearchCV(estimator=ada_tree, param_grid=ada_param_grid, cv = 10, verbose = 1, n_jobs=-1)\n",
    "ada_gs_model = ada_gs.fit(X1_train, y1_train)\n",
    "print(\"*\"*50)\n",
    "for hyper_name, val in ada_gs_model.best_params_.items():\n",
    "    print(\"{:15s} : {}\".format(hyper_name, val))\n",
    "    ada_tuned = AdaBoostRegressor(base_estimator=DecisionTreeRegressor(max_depth=3, random_state=1), n_estimators=10, learning_rate=0.01, random_state=1)\n",
    "ada_tuned.fit(X1_train, y1_train)\n",
    "y1_pred = ada_tuned.predict(X1_test)\n",
    "rmse1=np.sqrt(MSE(y1_pred, y1_test))\n",
    "print(\"*\"*40)\n",
    "print('Test set RMSE1 after tunning is: {:.5}'.format(rmse1))\n",
    "print(\"*\"*40)"
   ]
  },
  {
   "cell_type": "code",
   "execution_count": null,
   "id": "33983f11",
   "metadata": {},
   "outputs": [],
   "source": []
  }
 ],
 "metadata": {
  "kernelspec": {
   "display_name": "Python 3",
   "language": "python",
   "name": "python3"
  },
  "language_info": {
   "codemirror_mode": {
    "name": "ipython",
    "version": 3
   },
   "file_extension": ".py",
   "mimetype": "text/x-python",
   "name": "python",
   "nbconvert_exporter": "python",
   "pygments_lexer": "ipython3",
   "version": "3.8.8"
  }
 },
 "nbformat": 4,
 "nbformat_minor": 5
}
